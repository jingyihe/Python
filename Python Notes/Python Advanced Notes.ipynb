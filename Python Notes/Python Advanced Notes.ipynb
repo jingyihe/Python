{
 "cells": [
  {
   "cell_type": "markdown",
   "metadata": {},
   "source": [
    "#### Lambda\n",
    "format:  lambda: function"
   ]
  },
  {
   "cell_type": "code",
   "execution_count": 3,
   "metadata": {},
   "outputs": [
    {
     "data": {
      "text/plain": [
       "7"
      ]
     },
     "execution_count": 3,
     "metadata": {},
     "output_type": "execute_result"
    }
   ],
   "source": [
    "add_lambda = lambda x, y: x + y\n",
    "add_lambda(3, 4)"
   ]
  },
  {
   "cell_type": "markdown",
   "metadata": {},
   "source": [
    "#### 三元运算符"
   ]
  },
  {
   "cell_type": "code",
   "execution_count": 4,
   "metadata": {},
   "outputs": [
    {
     "name": "stdout",
     "output_type": "stream",
     "text": [
      "1\n"
     ]
    }
   ],
   "source": [
    "condition = True\n",
    "print(1 if condition else 2)"
   ]
  },
  {
   "cell_type": "markdown",
   "metadata": {},
   "source": [
    "#### Map"
   ]
  },
  {
   "cell_type": "code",
   "execution_count": 9,
   "metadata": {},
   "outputs": [
    {
     "name": "stdout",
     "output_type": "stream",
     "text": [
      "[2, 4, 6, 8, 10]\n"
     ]
    }
   ],
   "source": [
    "list1 = [1,2,3,4,5]\n",
    "r = map(lambda x: x + x, list1)  # shift + tab get the informaiton of the function\n",
    "print(list(r))"
   ]
  },
  {
   "cell_type": "code",
   "execution_count": 15,
   "metadata": {},
   "outputs": [
    {
     "name": "stdout",
     "output_type": "stream",
     "text": [
      "[2, 6, 12, 20, 30]\n"
     ]
    }
   ],
   "source": [
    "m1 = map(lambda x, y : x * x + y, list1, list1)\n",
    "print(list(m1))"
   ]
  },
  {
   "cell_type": "markdown",
   "metadata": {},
   "source": [
    "#### Filter "
   ]
  },
  {
   "cell_type": "code",
   "execution_count": 17,
   "metadata": {},
   "outputs": [
    {
     "name": "stdout",
     "output_type": "stream",
     "text": [
      "['hello', 'great', 'ai']\n"
     ]
    }
   ],
   "source": [
    "def is_not_none(s):\n",
    "    return s and len(s.strip())> 0\n",
    "list2 = [' ','', 'hello','great','ai', None]\n",
    "result = filter(is_not_none, list2)\n",
    "print(list(result))"
   ]
  },
  {
   "cell_type": "markdown",
   "metadata": {},
   "source": [
    "#### Reduce"
   ]
  },
  {
   "cell_type": "code",
   "execution_count": 20,
   "metadata": {},
   "outputs": [
    {
     "name": "stdout",
     "output_type": "stream",
     "text": [
      "25\n"
     ]
    }
   ],
   "source": [
    "from functools import reduce\n",
    "f = lambda x, y : x + y\n",
    "r = reduce(f, list1, 10)\n",
    "print(r)"
   ]
  },
  {
   "cell_type": "markdown",
   "metadata": {},
   "source": [
    "#### 列表推导式\n",
    "根据已有的列表推导出新的列表"
   ]
  },
  {
   "cell_type": "code",
   "execution_count": 23,
   "metadata": {},
   "outputs": [
    {
     "name": "stdout",
     "output_type": "stream",
     "text": [
      "[1, 4, 9, 16, 25]\n",
      "[16, 25]\n"
     ]
    }
   ],
   "source": [
    "list2 = [i * i for i in list1]\n",
    "print(list2)\n",
    "\n",
    "list3 = [i * i for i in list1 if i> 3]\n",
    "print(list3)\n"
   ]
  },
  {
   "cell_type": "markdown",
   "metadata": {},
   "source": [
    "#### 集合推导式"
   ]
  },
  {
   "cell_type": "code",
   "execution_count": 24,
   "metadata": {},
   "outputs": [
    {
     "name": "stdout",
     "output_type": "stream",
     "text": [
      "{1, 4, 9, 16, 25}\n",
      "{16, 25}\n"
     ]
    }
   ],
   "source": [
    "list2 = {i * i for i in list1}\n",
    "print(list2)\n",
    "\n",
    "list3 = {i * i for i in list1 if i> 3}\n",
    "print(list3)"
   ]
  },
  {
   "cell_type": "markdown",
   "metadata": {},
   "source": [
    "#### 字典推导式"
   ]
  },
  {
   "cell_type": "code",
   "execution_count": 30,
   "metadata": {},
   "outputs": [
    {
     "name": "stdout",
     "output_type": "stream",
     "text": [
      "['red', 'yellow', 'blue']\n",
      "{20: 'red', 15: 'yellow', 50: 'blue'}\n",
      "{'red': 20}\n"
     ]
    }
   ],
   "source": [
    "s = {\n",
    "    \"red\" : 20,\n",
    "    \"yellow\": 15,\n",
    "    \"blue\": 50\n",
    "}\n",
    "\n",
    "s_key = [key for key, value in s.items()]\n",
    "\n",
    "print(s_key)\n",
    "\n",
    "# swap key and value\n",
    "s1 = {value: key for key, value in s.items()}\n",
    "print(s1)\n",
    "\n",
    "\n",
    "s2 = {key:value for key, value in s.items() if key == \"red\"}\n",
    "print(s2)"
   ]
  },
  {
   "cell_type": "markdown",
   "metadata": {},
   "source": [
    "#### 闭包：一个返回值是函数的函数"
   ]
  },
  {
   "cell_type": "code",
   "execution_count": 32,
   "metadata": {},
   "outputs": [
    {
     "name": "stdout",
     "output_type": "stream",
     "text": [
      "1584744957.505909\n"
     ]
    }
   ],
   "source": [
    "# 调用后打印当前的时间\n",
    "import time\n",
    "def runtime():\n",
    "    def now_time():\n",
    "        print(time.time())\n",
    "    return now_time\n",
    "f = runtime()\n",
    "f()"
   ]
  },
  {
   "cell_type": "code",
   "execution_count": 34,
   "metadata": {},
   "outputs": [
    {
     "name": "stdout",
     "output_type": "stream",
     "text": [
      "a,b,c,d,e\r",
      "\r\n",
      "1,2,3,4,5\r",
      "\r\n",
      "6,7,8,9,10"
     ]
    }
   ],
   "source": [
    "cat data.csv"
   ]
  },
  {
   "cell_type": "code",
   "execution_count": 35,
   "metadata": {},
   "outputs": [
    {
     "name": "stdout",
     "output_type": "stream",
     "text": [
      "['6,7,8,9,10']\n"
     ]
    }
   ],
   "source": [
    "# read line with some codition\n",
    "def make_filter(keep):\n",
    "    def the_filter(file_name):\n",
    "        with open(file_name) as file:\n",
    "            lines = file.readlines()\n",
    "        filter_doc = [i for i in lines if keep in i]\n",
    "        return filter_doc\n",
    "    return the_filter\n",
    "\n",
    "filter1 = make_filter('8') # call make_filter function and return the_filter function\n",
    "filter_result = filter1('data.csv')\n",
    "print(filter_result)\n"
   ]
  },
  {
   "cell_type": "markdown",
   "metadata": {},
   "source": [
    "#### syntax sugar 装饰器， 语法糖，注解"
   ]
  },
  {
   "cell_type": "code",
   "execution_count": 37,
   "metadata": {},
   "outputs": [
    {
     "name": "stdout",
     "output_type": "stream",
     "text": [
      "student run\n",
      "1584746332.83125\n"
     ]
    }
   ],
   "source": [
    "import time\n",
    "def runtime(func):\n",
    "    def get_time():\n",
    "        func()\n",
    "        print(time.time())\n",
    "    return get_time\n",
    "\n",
    "@runtime\n",
    "def student_run():\n",
    "    print('student run')\n",
    "\n",
    "student_run()"
   ]
  },
  {
   "cell_type": "code",
   "execution_count": 39,
   "metadata": {},
   "outputs": [
    {
     "name": "stdout",
     "output_type": "stream",
     "text": [
      "student run\n",
      "1584746659.334461\n"
     ]
    }
   ],
   "source": [
    "# has parameter \n",
    "import time\n",
    "def runtime(func):\n",
    "    def get_time(i):\n",
    "        func(i)\n",
    "        print(time.time())\n",
    "    return get_time\n",
    "\n",
    "@runtime\n",
    "def student_run(i):\n",
    "    print('student run')\n",
    "\n",
    "student_run(1)"
   ]
  },
  {
   "cell_type": "code",
   "execution_count": 42,
   "metadata": {},
   "outputs": [
    {
     "name": "stdout",
     "output_type": "stream",
     "text": [
      "student run\n",
      "1584746771.9983912\n",
      "student run\n",
      "1584746771.998492\n"
     ]
    }
   ],
   "source": [
    "# has parameter \n",
    "import time\n",
    "def runtime(func):\n",
    "    def get_time(*args):\n",
    "        func(*args)\n",
    "        print(time.time())\n",
    "    return get_time\n",
    "\n",
    "@runtime\n",
    "def student_run(i,j):\n",
    "    print('student run')\n",
    "\n",
    "@runtime\n",
    "def student_run1(i):\n",
    "    print('student run')\n",
    "    \n",
    "student_run(1,2)\n",
    "student_run1(1)"
   ]
  },
  {
   "cell_type": "code",
   "execution_count": 49,
   "metadata": {},
   "outputs": [
    {
     "name": "stdout",
     "output_type": "stream",
     "text": [
      "student run\n",
      "1584746970.7765062\n",
      "student run\n",
      "1584746970.776628\n"
     ]
    }
   ],
   "source": [
    "# parameter：key = value\n",
    "import time\n",
    "def runtime(func):\n",
    "    def get_time(*args, **kwargs):\n",
    "        func(*args,**kwargs)\n",
    "        print(time.time())\n",
    "    return get_time\n",
    "\n",
    "@runtime\n",
    "def student_run(i,j):\n",
    "    print('student run')\n",
    "\n",
    "@runtime\n",
    "def student_run1(*args, **kwargs):\n",
    "    print('student run')\n",
    "    \n",
    "student_run(1,2)\n",
    "student_run1(5,i = 1,j = 2)"
   ]
  },
  {
   "cell_type": "code",
   "execution_count": 64,
   "metadata": {},
   "outputs": [
    {
     "name": "stdout",
     "output_type": "stream",
     "text": [
      "i am 2\n",
      "a\n",
      "1\n"
     ]
    }
   ],
   "source": [
    "def skip_a(msg=None):\n",
    "    def runFunc(func):\n",
    "        print(\"i am \" + str(msg))\n",
    "        print(func.__name__)\n",
    "        def wrapper(self):\n",
    "            if self.b == 1:\n",
    "                return wrapper\n",
    "            else:\n",
    "                func(self)\n",
    "        \n",
    "        return wrapper\n",
    "        \n",
    "    return runFunc\n",
    "\n",
    "\n",
    "class test_a:\n",
    "    def __init__(self):\n",
    "        self.b = 2\n",
    "\n",
    "    @skip_a(msg=2)\n",
    "    def a(self):\n",
    "        print(1)\n",
    "\n",
    "\n",
    "t = test_a()\n",
    "t.a()\n"
   ]
  },
  {
   "cell_type": "code",
   "execution_count": null,
   "metadata": {},
   "outputs": [],
   "source": [
    "# python开发一个语法糖，实现参数的类型准确性"
   ]
  }
 ],
 "metadata": {
  "kernelspec": {
   "display_name": "Python 3",
   "language": "python",
   "name": "python3"
  },
  "language_info": {
   "codemirror_mode": {
    "name": "ipython",
    "version": 3
   },
   "file_extension": ".py",
   "mimetype": "text/x-python",
   "name": "python",
   "nbconvert_exporter": "python",
   "pygments_lexer": "ipython3",
   "version": "3.6.5"
  }
 },
 "nbformat": 4,
 "nbformat_minor": 2
}
